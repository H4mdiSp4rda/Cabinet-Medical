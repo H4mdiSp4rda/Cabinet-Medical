{
 "cells": [
  {
   "cell_type": "code",
   "execution_count": 8,
   "id": "b8da61df",
   "metadata": {},
   "outputs": [
    {
     "name": "stdin",
     "output_type": "stream",
     "text": [
      "Please enter a CIN: sdf\n",
      "Please enter a First Name: Hamdi\n",
      "Please enter a Last Name: sds\n",
      "Please enter \"Male\" or \"Female\": fs\n",
      "Please enter the patient's age: fsd\n",
      "Please enter a CIN: f\n",
      "Please enter a First Name: Anis\n",
      "Please enter a Last Name: sdfsd\n",
      "Please enter \"Male\" or \"Female\": fsd\n",
      "Please enter the patient's age: fsdf\n"
     ]
    },
    {
     "name": "stdout",
     "output_type": "stream",
     "text": [
      "sdf Hamdi sds fs fsd\n",
      "f Anis sdfsd fsd fsdf\n"
     ]
    }
   ],
   "source": [
    "DPatient={\"cin\":[], \"nom\":[], \"prenom\":[], \"sexe\": [],\"age\": []}\n",
    "\n",
    "def add_patient():\n",
    "    \n",
    "    DPatient[\"cin\"].append(input('Please enter a CIN:'))\n",
    "    DPatient[\"nom\"].append(input('Please enter a First Name:'))\n",
    "    DPatient[\"prenom\"].append(input('Please enter a Last Name:'))\n",
    "    DPatient[\"sexe\"].append(input('Please enter \"Male\" or \"Female\":'))\n",
    "    DPatient[\"age\"].append(input(\"Please enter the patient's age:\"))\n",
    "    \n",
    "add_patient()\n",
    "add_patient()\n",
    "\n",
    "with open(\"DPatient.txt\", 'a+') as f: \n",
    "    for i in range(len(DPatient[\"cin\"])):\n",
    "        print( DPatient[\"cin\"][i],DPatient[\"nom\"][i],DPatient[\"prenom\"][i],DPatient[\"sexe\"][i],DPatient[\"age\"][i])\n",
    "        f.write('%s;%s;%s;%s;%s\\n' % (DPatient[\"cin\"][i],DPatient[\"nom\"][i],DPatient[\"prenom\"][i],DPatient[\"sexe\"][i],DPatient[\"age\"][i]))"
   ]
  },
  {
   "cell_type": "code",
   "execution_count": 9,
   "id": "5ef853aa",
   "metadata": {},
   "outputs": [
    {
     "name": "stdin",
     "output_type": "stream",
     "text": [
      "Enter the line to delete:  Anis\n"
     ]
    }
   ],
   "source": [
    "def delete_patient():\n",
    "    word=input(\"Enter the line to delete: \")\n",
    "    # read the entire file into a list of lines\n",
    "    with open(\"DPatient.txt\", 'r') as f:\n",
    "        lines = f.readlines()\n",
    "\n",
    "    # open the file in write mode to clear its contents\n",
    "    with open(\"DPatient.txt\", 'w') as f:\n",
    "        pass\n",
    "    \n",
    "    # re-open the file in append mode\n",
    "    with open(\"DPatient.txt\", 'a') as f:\n",
    "        \n",
    "        # iterate over the lines\n",
    "        for line in lines:\n",
    "            # check if the line contains the given word\n",
    "            if word not in line:\n",
    "                # if the word is not in the line, write the line to the file\n",
    "                f.write(line)\n",
    "                \n",
    "delete_patient()"
   ]
  }
 ],
 "metadata": {
  "kernelspec": {
   "display_name": "Python 3 (ipykernel)",
   "language": "python",
   "name": "python3"
  },
  "language_info": {
   "codemirror_mode": {
    "name": "ipython",
    "version": 3
   },
   "file_extension": ".py",
   "mimetype": "text/x-python",
   "name": "python",
   "nbconvert_exporter": "python",
   "pygments_lexer": "ipython3",
   "version": "3.9.12"
  }
 },
 "nbformat": 4,
 "nbformat_minor": 5
}
