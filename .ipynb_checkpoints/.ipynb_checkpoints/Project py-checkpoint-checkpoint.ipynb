{
 "cells": [
  {
   "cell_type": "code",
   "execution_count": 7,
   "id": "b8da61df",
   "metadata": {},
   "outputs": [
    {
     "name": "stdout",
     "output_type": "stream",
     "text": [
      "Please enter a CIN:fsdf\n",
      "Please enter a First Name:Ape\n",
      "Please enter a Last Name:sdfs\n",
      "Please enter \"Male\" or \"Female\":dfsd\n",
      "Please enter the patient's age:fsdf\n",
      "Please enter a CIN:\n",
      "Please enter a First Name:King\n",
      "Please enter a Last Name:sd\n",
      "Please enter \"Male\" or \"Female\":sdf\n",
      "Please enter the patient's age:sdf\n",
      "fsdf Ape sdfs dfsd fsdf\n",
      " King sd sdf sdf\n"
     ]
    }
   ],
   "source": [
    "DPatient={\"cin\":[], \"nom\":[], \"prenom\":[], \"sexe\": [],\"age\": []}\n",
    "\n",
    "def add_patient():\n",
    "    \n",
    "    DPatient[\"cin\"].append(str(input('Please enter a CIN:')))\n",
    "    DPatient[\"nom\"].append(input('Please enter a First Name:'))\n",
    "    DPatient[\"prenom\"].append(input('Please enter a Last Name:'))\n",
    "    DPatient[\"sexe\"].append(input('Please enter \"Male\" or \"Female\":'))\n",
    "    DPatient[\"age\"].append(input(\"Please enter the patient's age:\"))\n",
    "    \n",
    "add_patient()\n",
    "add_patient()\n",
    "\n",
    "with open(\"DPatient.txt\", 'a+') as f: \n",
    "    for i in range(len(DPatient[\"cin\"])):\n",
    "        print( DPatient[\"cin\"][i],DPatient[\"nom\"][i],DPatient[\"prenom\"][i],DPatient[\"sexe\"][i],DPatient[\"age\"][i])\n",
    "        f.write('%s;%s;%s;%s;%s\\n' % (DPatient[\"cin\"][i],DPatient[\"nom\"][i],DPatient[\"prenom\"][i],DPatient[\"sexe\"][i],DPatient[\"age\"][i]))"
   ]
  },
  {
   "cell_type": "code",
   "execution_count": 4,
   "id": "5ef853aa",
   "metadata": {},
   "outputs": [],
   "source": [
    "def delete_patient():\n",
    "    x=str(input(\"Please enter the name of the patient you wish to delete:\"))\n",
    "    with open(\"DPatient.txt\", 'r') as f: \n",
    "        s = f.readlines()\n",
    "        \n",
    "        \n",
    "    for i in s:\n",
    "        if i != x:\n",
    "            with open(\"DPatient.txt\", 'w') as f:\n",
    "                f.write(i)"
   ]
  },
  {
   "cell_type": "code",
   "execution_count": 8,
   "id": "7cdb4f22",
   "metadata": {},
   "outputs": [
    {
     "name": "stdout",
     "output_type": "stream",
     "text": [
      "Please enter the name of the patient you wish to delete:Hamdi*\n"
     ]
    }
   ],
   "source": [
    "delete_patient()"
   ]
  },
  {
   "cell_type": "code",
   "execution_count": null,
   "id": "7e6cc654",
   "metadata": {},
   "outputs": [],
   "source": []
  }
 ],
 "metadata": {
  "kernelspec": {
   "display_name": "Python 3 (ipykernel)",
   "language": "python",
   "name": "python3"
  },
  "language_info": {
   "codemirror_mode": {
    "name": "ipython",
    "version": 3
   },
   "file_extension": ".py",
   "mimetype": "text/x-python",
   "name": "python",
   "nbconvert_exporter": "python",
   "pygments_lexer": "ipython3",
   "version": "3.9.12"
  }
 },
 "nbformat": 4,
 "nbformat_minor": 5
}
