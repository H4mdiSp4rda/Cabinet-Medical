{
 "cells": [
  {
   "cell_type": "code",
   "execution_count": 2,
   "id": "d387a7f4",
   "metadata": {},
   "outputs": [],
   "source": [
    "DPatient={\"cin\":[], \"nom\":[], \"prenom\":[], \"sexe\": [],\"age\": []}\n",
    "rdvs={\"cin\":[], \"date\":[], \"time\":[]}"
   ]
  },
  {
   "cell_type": "code",
   "execution_count": 5,
   "id": "b8da61df",
   "metadata": {},
   "outputs": [],
   "source": [
    "def add_patient():\n",
    "    while True:\n",
    "        cin = input('Please enter a CIN:')\n",
    "        if cin.isdigit() and len(cin) == 8:\n",
    "            if cin not in DPatient[\"cin\"]:\n",
    "                break\n",
    "            else:\n",
    "                print(\"This CIN is already in use. Please enter a valid CIN.\")\n",
    "        else:\n",
    "            print(\"Invalid CIN. Please enter a 8-digit integer.\")\n",
    "    \n",
    "    while True:\n",
    "        nom = input('Please enter a First Name:')\n",
    "        if nom.isalpha():\n",
    "            break\n",
    "        else:\n",
    "            print(\"Invalid first name. Please enter a string containing only letters.\")\n",
    "    \n",
    "    while True:\n",
    "        prenom = input('Please enter a Last Name:')\n",
    "        if prenom.isalpha():\n",
    "            break\n",
    "        else:\n",
    "            print(\"Invalid last name. Please enter a string containing only letters.\")\n",
    "    \n",
    "    while True:\n",
    "        sexe = input('Please enter \"Male\" or \"Female\":')\n",
    "        sexe_lower = sexe.lower()  \n",
    "        if sexe_lower in [\"male\", \"female\"]:\n",
    "            break\n",
    "        else:\n",
    "            print(\"Invalid sex. Please enter either 'Male' or 'Female'.\")\n",
    "            \n",
    "    while True:\n",
    "        age = input(\"Please enter the patient's age:\")\n",
    "        if age.isdigit() and int(age) > 0:\n",
    "            break\n",
    "        else:\n",
    "            print(\"Invalid age. Please enter a positive integer.\")\n",
    "    \n",
    "    DPatient[\"cin\"].append(cin)\n",
    "    DPatient[\"nom\"].append(nom)\n",
    "    DPatient[\"prenom\"].append(prenom)\n",
    "    DPatient[\"sexe\"].append(sexe)\n",
    "    DPatient[\"age\"].append(age)\n",
    "    \n",
    "    \n",
    "    with open(\"DPatient.txt\", 'a') as f:\n",
    "        print(cin, nom, prenom, sexe, age)\n",
    "        f.write('%s;%s;%s;%s;%s\\n' % (cin, nom, prenom, sexe, age))\n"
   ]
  },
  {
   "cell_type": "code",
   "execution_count": 9,
   "id": "5ef853aa",
   "metadata": {},
   "outputs": [
    {
     "name": "stdout",
     "output_type": "stream",
     "text": [
      "Enter the line to delete:  Anis\n"
     ]
    }
   ],
   "source": [
    "def delete_patient():\n",
    "    cin_found = False  # flag to track if the given CIN was found in the file\n",
    "    \n",
    "    while True:\n",
    "        word = input(\"Enter the cin of patient to delete: \")\n",
    "        \n",
    "        # read the entire file into a list of lines\n",
    "        with open(\"DPatient.txt\", 'r') as f:\n",
    "            lines = f.readlines()\n",
    "\n",
    "        # open the file in write mode to clear its contents\n",
    "        with open(\"DPatient.txt\", 'w') as f:\n",
    "            pass\n",
    "\n",
    "        # re-open the file in append mode\n",
    "        with open(\"DPatient.txt\", 'a') as f:\n",
    "\n",
    "            # iterate over the lines\n",
    "            for line in lines:\n",
    "                # check if the line contains the given word\n",
    "                if word in line:\n",
    "                    cin_found = True  # update flag to indicate that the CIN was found\n",
    "                else:\n",
    "                    # if the word is not in the line, write the line to the file\n",
    "                    f.write(line)\n",
    "        \n",
    "        # check if the given CIN was found in the file\n",
    "        if cin_found:\n",
    "            # if the CIN was found, break out of the loop\n",
    "            break\n",
    "        else:\n",
    "            # if the CIN was not found, ask the user if they want to try again or abort\n",
    "            response = input(\"CIN not found. Enter a new CIN or 'abort' to exit: \")\n",
    "            if response.lower() == 'abort':\n",
    "                # if the user wants to abort, break out of the loop\n",
    "                break\n",
    "\n",
    "delete_patient()\n"
   ]
  },
  {
   "cell_type": "code",
   "execution_count": 21,
   "id": "c9bbec79-a89f-4430-9db4-517944c062b0",
   "metadata": {},
   "outputs": [
    {
     "name": "stdout",
     "output_type": "stream",
     "text": [
      "Enter the patient's CIN: 9\n",
      "Enter the date of the appointment DD/MM/YYYY: ss\n",
      "Enter the the time of the appointment HH:MM: ss\n"
     ]
    }
   ],
   "source": [
    "def add_appointment():\n",
    "    cin_rdv = input(\"Enter the patient's CIN: \")\n",
    "    date = input(\"Enter the date of the appointment DD/MM/YYYY: \")\n",
    "    temps = input(\"Enter the the time of the appointment HH:MM: \")\n",
    "\n",
    "    rdvs[\"cin\"].append(cin_rdv)\n",
    "    rdvs[\"date\"].append(date)\n",
    "    rdvs[\"time\"].append(temps)\n",
    "\n",
    "    # Open the file in write mode\n",
    "    with open(\"rdv.txt\", \"a\") as file:\n",
    "        file.write('%s;%s;%s\\n' % (cin_rdv, date, temps))\n",
    "        \n",
    "add_appointment()"
   ]
  },
  {
   "cell_type": "code",
   "execution_count": 7,
   "id": "3d47c697",
   "metadata": {},
   "outputs": [
    {
     "name": "stdout",
     "output_type": "stream",
     "text": [
      "{'cin': ['99'], 'date': ['22/01/1994'], 'time': ['08:15']}\n"
     ]
    }
   ],
   "source": [
    "print(rdvs)"
   ]
  },
  {
   "cell_type": "code",
   "execution_count": 8,
   "id": "5de950dc",
   "metadata": {},
   "outputs": [
    {
     "name": "stdout",
     "output_type": "stream",
     "text": [
      "Enter the patient's CIN: 99\n",
      "Enter the date of the appointment DD/MM/YYYY: sd\n",
      "Enter the the time of the appointment HH:MM: 33\n"
     ]
    }
   ],
   "source": [
    "def delete_appointment():\n",
    "    cin = input(\"Enter the patient's CIN: \")\n",
    "    date = input(\"Enter the date of the appointment DD/MM/YYYY: \")\n",
    "    time = input(\"Enter the the time of the appointment HH:MM: \")\n",
    "\n",
    "    # Open the file in read mode\n",
    "    with open(\"rdv.txt\", \"r\") as file:\n",
    "        # Read the file into a list of lines\n",
    "        lines = file.readlines()\n",
    "\n",
    "    # Open the file in write mode\n",
    "    with open(\"rdv.txt\", \"w\") as file:\n",
    "        # Loop over the lines in the file\n",
    "        for line in lines:\n",
    "            # Split the line into its component parts\n",
    "            parts = line.split(\";\")\n",
    "            \n",
    "            # If the CIN, date, and time do not match the ones provided by the user,\n",
    "            # write the line back to the file\n",
    "            if parts[0] != cin or parts[1] != date or parts[2] != time:\n",
    "                file.write(line)\n",
    "delete_appointment()"
   ]
  },
  {
   "cell_type": "code",
   "execution_count": 4,
   "id": "5ce5cba0",
   "metadata": {},
   "outputs": [
    {
     "name": "stdout",
     "output_type": "stream",
     "text": [
      "Invalid last name. Please enter a string containing only letters.\n"
     ]
    }
   ],
   "source": [
    "add_patient()"
   ]
  }
 ],
 "metadata": {
  "kernelspec": {
   "display_name": "Python 3",
   "language": "python",
   "name": "python3"
  },
  "language_info": {
   "codemirror_mode": {
    "name": "ipython",
    "version": 3
   },
   "file_extension": ".py",
   "mimetype": "text/x-python",
   "name": "python",
   "nbconvert_exporter": "python",
   "pygments_lexer": "ipython3",
   "version": "3.11.0"
  },
  "vscode": {
   "interpreter": {
    "hash": "4ce5e9eb685f2cbd0e3503ebb85761aaa408303647e20907299c603e3c6f3f27"
   }
  }
 },
 "nbformat": 4,
 "nbformat_minor": 5
}
