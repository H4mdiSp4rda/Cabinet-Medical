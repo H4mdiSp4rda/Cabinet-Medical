{
 "cells": [
  {
   "cell_type": "code",
   "execution_count": 8,
   "id": "b8da61df",
   "metadata": {},
   "outputs": [
    {
     "name": "stdin",
     "output_type": "stream",
     "text": [
      "Please enter a CIN: sdf\n",
      "Please enter a First Name: Hamdi\n",
      "Please enter a Last Name: sds\n",
      "Please enter \"Male\" or \"Female\": fs\n",
      "Please enter the patient's age: fsd\n",
      "Please enter a CIN: f\n",
      "Please enter a First Name: Anis\n",
      "Please enter a Last Name: sdfsd\n",
      "Please enter \"Male\" or \"Female\": fsd\n",
      "Please enter the patient's age: fsdf\n"
     ]
    },
    {
     "name": "stdout",
     "output_type": "stream",
     "text": [
      "sdf Hamdi sds fs fsd\n",
      "f Anis sdfsd fsd fsdf\n"
     ]
    }
   ],
   "source": [
    "DPatient={\"cin\":[], \"nom\":[], \"prenom\":[], \"sexe\": [],\"age\": []}\n",
    "\n",
    "def add_patient():\n",
    "    \n",
    "    DPatient[\"cin\"].append(input('Please enter a CIN:'))\n",
    "    DPatient[\"nom\"].append(input('Please enter a First Name:'))\n",
    "    DPatient[\"prenom\"].append(input('Please enter a Last Name:'))\n",
    "    DPatient[\"sexe\"].append(input('Please enter \"Male\" or \"Female\":'))\n",
    "    DPatient[\"age\"].append(input(\"Please enter the patient's age:\"))\n",
    "    \n",
    "add_patient()\n",
    "add_patient()\n",
    "\n",
    "with open(\"DPatient.txt\", 'a+') as f: \n",
    "    for i in range(len(DPatient[\"cin\"])):\n",
    "        print( DPatient[\"cin\"][i],DPatient[\"nom\"][i],DPatient[\"prenom\"][i],DPatient[\"sexe\"][i],DPatient[\"age\"][i])\n",
    "        f.write('%s;%s;%s;%s;%s\\n' % (DPatient[\"cin\"][i],DPatient[\"nom\"][i],DPatient[\"prenom\"][i],DPatient[\"sexe\"][i],DPatient[\"age\"][i]))"
   ]
  },
  {
   "cell_type": "code",
   "execution_count": 9,
   "id": "5ef853aa",
   "metadata": {},
   "outputs": [
    {
     "name": "stdin",
     "output_type": "stream",
     "text": [
      "Enter the line to delete:  Anis\n"
     ]
    }
   ],
   "source": [
    "def delete_patient():\n",
    "    word=input(\"Enter the line to delete: \")\n",
    "    # read the entire file into a list of lines\n",
    "    with open(\"DPatient.txt\", 'r') as f:\n",
    "        lines = f.readlines()\n",
    "\n",
    "    # open the file in write mode to clear its contents\n",
    "    with open(\"DPatient.txt\", 'w') as f:\n",
    "        pass\n",
    "    \n",
    "    # re-open the file in append mode\n",
    "    with open(\"DPatient.txt\", 'a') as f:\n",
    "        \n",
    "        # iterate over the lines\n",
    "        for line in lines:\n",
    "            # check if the line contains the given word\n",
    "            if word not in line:\n",
    "                # if the word is not in the line, write the line to the file\n",
    "                f.write(line)\n",
    "                \n",
    "delete_patient()"
   ]
  },
  {
   "cell_type": "code",
   "execution_count": null,
   "id": "3076f110-6f05-41f9-9315-555bea205cb2",
   "metadata": {},
   "outputs": [],
   "source": [
    "def add_appointment():\n",
    "    patient_cin = input(\"Enter the patient's CIN:\")\n",
    "    date = input(\"Enter the date of the appointment (mm/dd/yyyy):\")\n",
    "    time = input(\"Enter the time of the appointment (hh:mm):\")\n",
    "    \n",
    "    with open(\"rdv.txt\", \"a+\") as f:\n",
    "        f.write(\"%s;%s;%s\\n\" % (patient_cin, date, time))\n",
    "\n",
    "# Example usage:\n",
    "add_appointment()"
   ]
  },
  {
   "cell_type": "code",
   "execution_count": null,
   "id": "f90603e1-9ace-4979-920d-2b8e993ed8c6",
   "metadata": {},
   "outputs": [],
   "source": [
    "def cancel_appointment():\n",
    "    patient_cin = input(\"Enter the patient's CIN:\")\n",
    "    date = input(\"Enter the date of the appointment (mm/dd/yyyy):\")\n",
    "    time = input(\"Enter the time of the appointment (hh:mm):\")\n",
    "    \n",
    "    appointments = []\n",
    "    # Read all appointments from file and store in a list\n",
    "    with open(\"rdv.txt\", \"r\") as f:\n",
    "        for line in f:\n",
    "            appointments.append(line.strip())\n",
    "    \n",
    "    # Remove the appointment that matches the given patient_id, date, and time\n",
    "    appointments = [a for a in appointments if not (a.split(\";\")[0] == patient_cin and a.split(\";\")[1] == date and a.split(\";\")[2] == time)]\n",
    "    \n",
    "    # Write the updated list of appointments back to the file\n",
    "    with open(\"rdv.txt\", \"w\") as f:\n",
    "        for appointment in appointments:\n",
    "            f.write(\"%s\\n\" % appointment)\n",
    "\n",
    "# Example usage:\n",
    "cancel_appointment()"
   ]
  },
  {
   "cell_type": "code",
   "execution_count": null,
   "id": "8c89516c-ea6c-4b10-885a-3ae480dfaa35",
   "metadata": {},
   "outputs": [],
   "source": [
    "def modify_appointment():\n",
    "    patient_id = input(\"Enter the patient's ID:\")\n",
    "    old_date = input(\"Enter the current date of the appointment (mm/dd/yyyy):\")\n",
    "    old_time = input(\"Enter the current time of the appointment (hh:mm):\")\n",
    "    new_date = input(\"Enter the new date of the appointment (mm/dd/yyyy):\")\n",
    "    new_time = input(\"Enter the new time of the appointment (hh:mm):\")\n",
    "    \n",
    "    appointments = []\n",
    "    # Read all appointments from file and store in a list\n",
    "    with open(\"rdv.txt\", \"r\") as f:\n",
    "        for line in f:\n",
    "            appointments.append(line.strip())\n",
    "    \n",
    "    # Modify the appointment that matches the given patient_id, old_date, and old_time\n",
    "    appointments = [a.replace(\"%s;%s;%s\" % (patient_id, old_date, old_time), \"%s;%s;%s\" % (patient_id, new_date, new_time)) for a in appointments]\n",
    "    \n",
    "    # Write the updated list of appointments back to the file\n",
    "    with open(\"rdv.txt\", \"w\") as f:\n",
    "        for appointment in appointments:\n",
    "            f.write(\"%s\\n\" % appointment)\n",
    "\n",
    "# Example usage:\n",
    "modify_appointment()"
   ]
  },
  {
   "cell_type": "code",
   "execution_count": null,
   "id": "c9bbec79-a89f-4430-9db4-517944c062b0",
   "metadata": {},
   "outputs": [],
   "source": []
  }
 ],
 "metadata": {
  "kernelspec": {
   "display_name": "Python 3 (ipykernel)",
   "language": "python",
   "name": "python3"
  },
  "language_info": {
   "codemirror_mode": {
    "name": "ipython",
    "version": 3
   },
   "file_extension": ".py",
   "mimetype": "text/x-python",
   "name": "python",
   "nbconvert_exporter": "python",
   "pygments_lexer": "ipython3",
   "version": "3.9.12"
  }
 },
 "nbformat": 4,
 "nbformat_minor": 5
}
