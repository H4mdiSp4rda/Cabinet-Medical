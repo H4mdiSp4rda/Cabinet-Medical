{
 "cells": [
  {
   "cell_type": "code",
   "execution_count": 18,
   "id": "d387a7f4",
   "metadata": {},
   "outputs": [],
   "source": [
    "import re\n",
    "from datetime import datetime\n",
    "\n",
    "DPatient={\"cin\":[], \"nom\":[], \"prenom\":[], \"sexe\": [],\"age\": []}\n",
    "rdvs={\"cin\":[], \"date\":[], \"time\":[]}"
   ]
  },
  {
   "cell_type": "code",
   "execution_count": null,
   "id": "b8da61df",
   "metadata": {},
   "outputs": [],
   "source": [
    "def add_patient():\n",
    "    while True:\n",
    "        cin = input('Please enter a CIN:')\n",
    "        if cin.isdigit() and len(cin) == 8:\n",
    "            if cin not in DPatient[\"cin\"]:\n",
    "                break\n",
    "            else:\n",
    "                print(\"This CIN is already in use. Please enter a valid CIN.\")\n",
    "        else:\n",
    "            print(\"Invalid CIN. Please enter a 8-digit integer.\")\n",
    "    \n",
    "    while True:\n",
    "        nom = input('Please enter a First Name:')\n",
    "        if nom.isalpha():\n",
    "            break\n",
    "        else:\n",
    "            print(\"Invalid first name. Please enter a string containing only letters.\")\n",
    "    \n",
    "    while True:\n",
    "        prenom = input('Please enter a Last Name:')\n",
    "        if prenom.isalpha():\n",
    "            break\n",
    "        else:\n",
    "            print(\"Invalid last name. Please enter a string containing only letters.\")\n",
    "    \n",
    "    while True:\n",
    "        sexe = input('Please enter \"Male\" or \"Female\":')\n",
    "        sexe_lower = sexe.lower()  \n",
    "        if sexe_lower in [\"male\", \"female\"]:\n",
    "            break\n",
    "        else:\n",
    "            print(\"Invalid sex. Please enter either 'Male' or 'Female'.\")\n",
    "            \n",
    "    while True:\n",
    "        age = input(\"Please enter the patient's age:\")\n",
    "        if age.isdigit() and int(age) > 0:\n",
    "            break\n",
    "        else:\n",
    "            print(\"Invalid age. Please enter a positive integer.\")\n",
    "    \n",
    "    DPatient[\"cin\"].append(cin)\n",
    "    DPatient[\"nom\"].append(nom)\n",
    "    DPatient[\"prenom\"].append(prenom)\n",
    "    DPatient[\"sexe\"].append(sexe)\n",
    "    DPatient[\"age\"].append(age)\n",
    "    \n",
    "    \n",
    "    with open(\"DPatient.txt\", 'a') as f:\n",
    "        print(cin, nom, prenom, sexe, age)\n",
    "        f.write('%s;%s;%s;%s;%s\\n' % (cin, nom, prenom, sexe, age))\n",
    "        print(\"Patient data successfully added.\")\n"
   ]
  },
  {
   "cell_type": "code",
   "execution_count": null,
   "id": "5ef853aa",
   "metadata": {},
   "outputs": [],
   "source": [
    "def delete_patient():\n",
    "    cin_found = False  # flag to track if the given CIN was found in the file\n",
    "    \n",
    "    while True:\n",
    "        word = input(\"Enter the cin of patient to delete: \")\n",
    "        \n",
    "        # read the entire file into a list of lines\n",
    "        with open(\"DPatient.txt\", 'r') as f:\n",
    "            lines = f.readlines()\n",
    "\n",
    "        # open the file in write mode to clear its contents\n",
    "        with open(\"DPatient.txt\", 'w') as f:\n",
    "            pass\n",
    "\n",
    "        # re-open the file in append mode\n",
    "        with open(\"DPatient.txt\", 'a') as f:\n",
    "\n",
    "            # iterate over the lines\n",
    "            for line in lines:\n",
    "                # check if the line contains the given word\n",
    "                if word in line:\n",
    "                    cin_found = True  # update flag to indicate that the CIN was found\n",
    "                else:\n",
    "                    # if the word is not in the line, write the line to the file\n",
    "                    f.write(line)\n",
    "                    print(\"Patient data successfully deleted.\")\n",
    "        \n",
    "        # check if the given CIN was found in the file\n",
    "        if cin_found:\n",
    "            # if the CIN was found, break out of the loop\n",
    "            break\n",
    "        else:\n",
    "            # if the CIN was not found, ask the user if they want to try again or abort\n",
    "            response = input(\"CIN not found. Enter a new CIN or 'Abort' to exit: \")\n",
    "            if response.lower() == 'abort':\n",
    "                # if the user wants to abort, break out of the loop\n",
    "                break\n"
   ]
  },
  {
   "cell_type": "code",
   "execution_count": null,
   "id": "c9bbec79-a89f-4430-9db4-517944c062b0",
   "metadata": {},
   "outputs": [],
   "source": [
    "def add_appointment():\n",
    "    while True:\n",
    "        cin_rdv = input(\"Enter the patient's CIN: \")\n",
    "        if cin_rdv.isdigit() and len(cin_rdv) == 8:\n",
    "            # Convert CIN to integer\n",
    "            cin_rdv = int(cin_rdv)\n",
    "            break\n",
    "        print(\"Invalid CIN. CIN must be an 8-digit integer.\")\n",
    "\n",
    "    while True:\n",
    "        date = input(\"Enter the date of the appointment DD/MM/YYYY: \")\n",
    "        try:\n",
    "            # Parse the date using the datetime.strptime function\n",
    "            # If the date is in the correct format, this will return a datetime object\n",
    "            appointment_date = datetime.strptime(date, \"%d/%m/%Y\")\n",
    "            break\n",
    "        except ValueError:\n",
    "            # If the date is not in the correct format, a ValueError is raised\n",
    "            print(\"Invalid date format. Please use the format DD/MM/YYYY.\")\n",
    "\n",
    "    while True:\n",
    "        temps = input(\"Enter the the time of the appointment HH:MM: \")\n",
    "        try:\n",
    "            # Parse the time using the datetime.strptime function\n",
    "            # If the time is in the correct format, this will return a datetime object\n",
    "            appointment_time = datetime.strptime(temps, \"%H:%M\")\n",
    "            break\n",
    "        except ValueError:\n",
    "            # If the time is not in the correct format, a ValueError is raised\n",
    "            print(\"Invalid time format. Please use the format HH:MM.\")\n",
    "\n",
    "    # Create a datetime object for the entire appointment by combining the date and time\n",
    "    appointment = datetime.combine(appointment_date, appointment_time.time())\n",
    "\n",
    "    # Check if an appointment already exists at the same date and time\n",
    "    for c, d, t in zip(rdvs[\"cin\"], rdvs[\"date\"], rdvs[\"time\"]):\n",
    "        if c == cin_rdv and d == date and t == temps:\n",
    "            while True:\n",
    "                choice = input(\"An appointment already exists at this date and time. Enter 'Change' to input a new date and time or 'Abort' to abort: \")\n",
    "                if choice.lower() == \"change\":\n",
    "                    break\n",
    "                elif choice.lower() == \"abort\":\n",
    "                    return\n",
    "                else:\n",
    "                    print(\"Invalid choice. Please enter 'Change' to input a new date and time or 'Abort' to abort.\")\n",
    "\n",
    "    rdvs[\"cin\"].append(cin_rdv)\n",
    "    rdvs[\"date\"].append(date)\n",
    "    rdvs[\"time\"].append(temps)\n",
    "\n",
    "    # Open the file in write mode\n",
    "    with open(\"rdv.txt\", \"a\") as file:\n",
    "        file.write('%s;%s;%s\\n' % (cin_rdv, date, temps))\n",
    "        print(\"Appointment successfully added.\")"
   ]
  },
  {
   "cell_type": "code",
   "execution_count": null,
   "id": "5de950dc",
   "metadata": {},
   "outputs": [],
   "source": [
    "def delete_appointment():\n",
    "    # Read the file into a list of lines\n",
    "    with open(\"rdv.txt\", \"r\") as file:\n",
    "        lines = file.readlines()\n",
    "\n",
    "    # Flag to track whether the appointment was found\n",
    "    found = False\n",
    "\n",
    "    # Loop until a valid CIN is entered\n",
    "    while True:\n",
    "        cin = input(\"Enter the patient's CIN: \")\n",
    "        # Check if the CIN exists in any of the lines\n",
    "        for line in lines:\n",
    "            parts = line.split(\";\")\n",
    "            if parts[0] == cin:\n",
    "                found = True\n",
    "                break\n",
    "        # If the CIN was found, break out of the loop\n",
    "        if found:\n",
    "            break\n",
    "        # If the CIN was not found, ask the user to enter a different one\n",
    "        else:\n",
    "            print(\"Invalid CIN. Please try again.\")\n",
    "\n",
    "    date = input(\"Enter the date of the appointment DD/MM/YYYY: \")\n",
    "    time = input(\"Enter the the time of the appointment HH:MM: \")\n",
    "\n",
    "    # Open the file in write mode\n",
    "    with open(\"rdv.txt\", \"w\") as file:\n",
    "        # Loop over the lines in the file\n",
    "        for line in lines:\n",
    "            # Split the line into its component parts\n",
    "            parts = line.split(\";\")\n",
    "            \n",
    "            # If the CIN, date, and time do not match the ones provided by the user,\n",
    "            # write the line back to the file\n",
    "            if parts[0] != cin or parts[1] != date or parts[2] != time:\n",
    "                file.write(line)\n",
    "        # If the appointment was not found, ask the user to enter valid data or abort the operation\n",
    "        if not found:\n",
    "            print(\"Appointment not found. Please enter valid data or type 'Abort' to cancel the operation.\")\n",
    "            choice = input()\n",
    "            if choice.lower() != \"abort\":\n",
    "                # Write the new appointment to the file\n",
    "                file.write(f\"{cin};{date};{time}\\n\")\n",
    "                print(\"Appointment successfully deleted.\")"
   ]
  },
  {
   "cell_type": "code",
   "execution_count": 8,
   "id": "ed288502",
   "metadata": {},
   "outputs": [
    {
     "name": "stdout",
     "output_type": "stream",
     "text": [
      "Enter the patient's CIN: 33\n",
      "Enter the date of the appointment DD/MM/YYYY: dsd\n",
      "Enter the the time of the appointment HH:MM: dd\n"
     ]
    }
   ],
   "source": [
    "delete_appointment()"
   ]
  },
  {
   "cell_type": "code",
   "execution_count": 4,
   "id": "5ce5cba0",
   "metadata": {
    "scrolled": true
   },
   "outputs": [
    {
     "name": "stdout",
     "output_type": "stream",
     "text": [
      "Invalid last name. Please enter a string containing only letters.\n"
     ]
    }
   ],
   "source": [
    "add_patient()"
   ]
  },
  {
   "cell_type": "code",
   "execution_count": 14,
   "id": "e36db37b",
   "metadata": {},
   "outputs": [
    {
     "name": "stdout",
     "output_type": "stream",
     "text": [
      "Enter the patient's CIN: 7777777\n",
      "Invalid CIN. CIN must be an 8-digit integer.\n",
      "Enter the patient's CIN: 77777777\n",
      "Enter the date of the appointment DD/MM/YYYY: 33/11/3333\n",
      "Invalid date format. Please use the format DD/MM/YYYY.\n",
      "Enter the date of the appointment DD/MM/YYYY: 12/33/2022\n",
      "Invalid date format. Please use the format DD/MM/YYYY.\n",
      "Enter the date of the appointment DD/MM/YYYY: dfd\n",
      "Invalid date format. Please use the format DD/MM/YYYY.\n",
      "Enter the date of the appointment DD/MM/YYYY: ddd\n",
      "Invalid date format. Please use the format DD/MM/YYYY.\n",
      "Enter the date of the appointment DD/MM/YYYY: ddd\n",
      "Invalid date format. Please use the format DD/MM/YYYY.\n",
      "Enter the date of the appointment DD/MM/YYYY: 13/11/3333\n",
      "Enter the the time of the appointment HH:MM: 33:14\n",
      "Invalid time format. Please use the format HH:MM.\n",
      "Enter the the time of the appointment HH:MM: 14:17\n"
     ]
    }
   ],
   "source": [
    "add_appointment()"
   ]
  }
 ],
 "metadata": {
  "kernelspec": {
   "display_name": "Python 3",
   "language": "python",
   "name": "python3"
  },
  "language_info": {
   "codemirror_mode": {
    "name": "ipython",
    "version": 3
   },
   "file_extension": ".py",
   "mimetype": "text/x-python",
   "name": "python",
   "nbconvert_exporter": "python",
   "pygments_lexer": "ipython3",
   "version": "3.11.1 (tags/v3.11.1:a7a450f, Dec  6 2022, 19:58:39) [MSC v.1934 64 bit (AMD64)]"
  },
  "vscode": {
   "interpreter": {
    "hash": "c2987bf884b33d4ac0d131f2cc512127de39608db1d626b88cf922dfeda625a8"
   }
  }
 },
 "nbformat": 4,
 "nbformat_minor": 5
}
