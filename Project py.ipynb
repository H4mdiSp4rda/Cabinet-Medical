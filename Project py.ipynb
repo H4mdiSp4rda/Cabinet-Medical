{
 "cells": [
  {
   "cell_type": "code",
   "execution_count": 8,
   "id": "b8da61df",
   "metadata": {},
   "outputs": [
    {
     "name": "stdout",
     "output_type": "stream",
     "text": [
      "Please enter a CIN: sdf\n",
      "Please enter a First Name: Hamdi\n",
      "Please enter a Last Name: sds\n",
      "Please enter \"Male\" or \"Female\": fs\n",
      "Please enter the patient's age: fsd\n",
      "Please enter a CIN: f\n",
      "Please enter a First Name: Anis\n",
      "Please enter a Last Name: sdfsd\n",
      "Please enter \"Male\" or \"Female\": fsd\n",
      "Please enter the patient's age: fsdf\n"
     ]
    },
    {
     "name": "stdout",
     "output_type": "stream",
     "text": [
      "sdf Hamdi sds fs fsd\n",
      "f Anis sdfsd fsd fsdf\n"
     ]
    }
   ],
   "source": [
    "DPatient={\"cin\":[], \"nom\":[], \"prenom\":[], \"sexe\": [],\"age\": []}\n",
    "\n",
    "def add_patient():\n",
    "    while True:\n",
    "        cin = input('Please enter a CIN:')\n",
    "        if cin.isdigit() and len(cin) == 8:\n",
    "            if cin not in DPatient[\"cin\"]:\n",
    "                break\n",
    "            else:\n",
    "                print(\"This CIN is already in use. Please enter a valid CIN.\")\n",
    "        else:\n",
    "            print(\"Invalid CIN. Please enter a 8-digit integer.\")\n",
    "    \n",
    "    DPatient[\"cin\"].append(cin)\n",
    "    DPatient[\"nom\"].append(input('Please enter a First Name:'))\n",
    "    DPatient[\"prenom\"].append(input('Please enter a Last Name:'))\n",
    "    DPatient[\"sexe\"].append(input('Please enter \"Male\" or \"Female\":'))\n",
    "    \n",
    "    while True:\n",
    "        age = input(\"Please enter the patient's age:\")\n",
    "        if age.isdigit() and int(age) > 0:\n",
    "            break\n",
    "        else:\n",
    "            print(\"Invalid age. Please enter a positive integer.\")\n",
    "    \n",
    "    DPatient[\"age\"].append(age)\n",
    "    \n",
    "\n",
    "    with open(\"DPatient.txt\", 'a+') as f: \n",
    "        for i in range(len(DPatient[\"cin\"])):\n",
    "            print( DPatient[\"cin\"][i],DPatient[\"nom\"][i],DPatient[\"prenom\"][i],DPatient[\"sexe\"][i],DPatient[\"age\"][i])\n",
    "            f.write('%s;%s;%s;%s;%s\\n' % (DPatient[\"cin\"][i],DPatient[\"nom\"][i],DPatient[\"prenom\"][i],DPatient[\"sexe\"][i],DPatient[\"age\"][i]))\n",
    "\n",
    "add_patient()\n",
    "add_patient()\n"
   ]
  },
  {
   "cell_type": "code",
   "execution_count": 9,
   "id": "5ef853aa",
   "metadata": {},
   "outputs": [
    {
     "name": "stdout",
     "output_type": "stream",
     "text": [
      "Enter the line to delete:  Anis\n"
     ]
    }
   ],
   "source": [
    "def delete_patient():\n",
    "    word=input(\"Enter the cin of patient to delete: \")\n",
    "    # read the entire file into a list of lines\n",
    "    with open(\"DPatient.txt\", 'r') as f:\n",
    "        lines = f.readlines()\n",
    "\n",
    "    # open the file in write mode to clear its contents\n",
    "    with open(\"DPatient.txt\", 'w') as f:\n",
    "        pass\n",
    "    \n",
    "    # re-open the file in append mode\n",
    "    with open(\"DPatient.txt\", 'a') as f:\n",
    "        \n",
    "        # iterate over the lines\n",
    "        for line in lines:\n",
    "            # check if the line contains the given word\n",
    "            if word not in line:\n",
    "                # if the word is not in the line, write the line to the file\n",
    "                f.write(line)\n",
    "                \n",
    "delete_patient()"
   ]
  },
  {
   "cell_type": "code",
   "execution_count": 5,
   "id": "c9bbec79-a89f-4430-9db4-517944c062b0",
   "metadata": {},
   "outputs": [
    {
     "name": "stdout",
     "output_type": "stream",
     "text": [
      "Enter the patient's CIN: 99\n",
      "Enter the date of the appointment DD/MM/YYYY: 22/01/1994\n",
      "Enter the the time of the appointment HH:MM: 08:15\n",
      "99 22/01/1994 ['08:15']\n"
     ]
    }
   ],
   "source": [
    "rdvs={\"cin\":[], \"date\":[], \"time\":[]}\n",
    "\n",
    "def add_appointment():\n",
    "    cin = input(\"Enter the patient's CIN: \")\n",
    "    date = input(\"Enter the date of the appointment DD/MM/YYYY: \")\n",
    "    temp = input(\"Enter the the time of the appointment HH:MM: \")\n",
    "\n",
    "    rdvs[\"cin\"].append(cin)\n",
    "    rdvs[\"date\"].append(date)\n",
    "    rdvs[\"time\"].append(temp)\n",
    "\n",
    "    # Open the file in write mode\n",
    "    with open(\"rdv.txt\", \"a\") as file:\n",
    "        for i in range(len(rdvs[\"cin\"])):\n",
    "            print( rdvs[\"cin\"][i],rdvs[\"date\"][i],rdvs[\"time\"])\n",
    "            file.write('%s;%s;%s\\n' % (rdvs[\"cin\"][i],rdvs[\"date\"][i],rdvs[\"time\"][i]))\n",
    "        \n",
    "add_appointment()"
   ]
  },
  {
   "cell_type": "code",
   "execution_count": 7,
   "id": "3d47c697",
   "metadata": {},
   "outputs": [
    {
     "name": "stdout",
     "output_type": "stream",
     "text": [
      "{'cin': ['99'], 'date': ['22/01/1994'], 'time': ['08:15']}\n"
     ]
    }
   ],
   "source": [
    "print(rdvs)"
   ]
  },
  {
   "cell_type": "code",
   "execution_count": 8,
   "id": "5de950dc",
   "metadata": {},
   "outputs": [
    {
     "name": "stdout",
     "output_type": "stream",
     "text": [
      "Enter the patient's CIN: 99\n",
      "Enter the date of the appointment DD/MM/YYYY: sd\n",
      "Enter the the time of the appointment HH:MM: 33\n"
     ]
    }
   ],
   "source": [
    "def delete_appointment():\n",
    "    cin = input(\"Enter the patient's CIN: \")\n",
    "    date = input(\"Enter the date of the appointment DD/MM/YYYY: \")\n",
    "    time = input(\"Enter the the time of the appointment HH:MM: \")\n",
    "\n",
    "    # Open the file in read mode\n",
    "    with open(\"rdv.txt\", \"r\") as file:\n",
    "        # Read the file into a list of lines\n",
    "        lines = file.readlines()\n",
    "\n",
    "    # Open the file in write mode\n",
    "    with open(\"rdv.txt\", \"w\") as file:\n",
    "        # Loop over the lines in the file\n",
    "        for line in lines:\n",
    "            # Split the line into its component parts\n",
    "            parts = line.split(\";\")\n",
    "            \n",
    "            # If the CIN, date, and time do not match the ones provided by the user,\n",
    "            # write the line back to the file\n",
    "            if parts[0] != cin or parts[1] != date or parts[2] != time:\n",
    "                file.write(line)\n",
    "delete_appointment()"
   ]
  }
 ],
 "metadata": {
  "kernelspec": {
   "display_name": "Python 3",
   "language": "python",
   "name": "python3"
  },
  "language_info": {
   "codemirror_mode": {
    "name": "ipython",
    "version": 3
   },
   "file_extension": ".py",
   "mimetype": "text/x-python",
   "name": "python",
   "nbconvert_exporter": "python",
   "pygments_lexer": "ipython3",
   "version": "3.11.0 (main, Oct 24 2022, 18:26:48) [MSC v.1933 64 bit (AMD64)]"
  },
  "vscode": {
   "interpreter": {
    "hash": "4ce5e9eb685f2cbd0e3503ebb85761aaa408303647e20907299c603e3c6f3f27"
   }
  }
 },
 "nbformat": 4,
 "nbformat_minor": 5
}
