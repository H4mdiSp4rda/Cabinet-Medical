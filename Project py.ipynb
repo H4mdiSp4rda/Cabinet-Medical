{
 "cells": [
  {
   "cell_type": "code",
   "execution_count": 1,
   "id": "b8da61df",
   "metadata": {},
   "outputs": [
    {
     "name": "stdout",
     "output_type": "stream",
     "text": [
      "Please enter a CIN:99\n",
      "Please enter a First Name:Hamdi \n",
      "Please enter a Last Name:Sadkaoui\n",
      "Please enter \"Male\" or \"Female\":Male\n",
      "Please enter the patient's age:99\n",
      "Please enter a CIN:88\n",
      "Please enter a First Name:Nadhir\n",
      "Please enter a Last Name:Mghirbi\n",
      "Please enter \"Male\" or \"Female\":Female\n",
      "Please enter the patient's age:55\n",
      "99 Hamdi  Sadkaoui Male 99\n",
      "88 Nadhir Mghirbi Female 55\n"
     ]
    }
   ],
   "source": [
    "DPatient={\"cin\":[], \"nom\":[], \"prenom\":[], \"sexe\": [],\"age\": []}\n",
    "\n",
    "def add_patient():\n",
    "    \n",
    "    DPatient[\"cin\"].append(input('Please enter a CIN:'))\n",
    "    DPatient[\"nom\"].append(input('Please enter a First Name:'))\n",
    "    DPatient[\"prenom\"].append(input('Please enter a Last Name:'))\n",
    "    DPatient[\"sexe\"].append(input('Please enter \"Male\" or \"Female\":'))\n",
    "    DPatient[\"age\"].append(input(\"Please enter the patient's age:\"))\n",
    "    \n",
    "add_patient()\n",
    "add_patient()\n",
    "\n",
    "with open(\"DPatient.txt\", 'a+') as f: \n",
    "    for i in range(len(DPatient[\"cin\"])):\n",
    "        print( DPatient[\"cin\"][i],DPatient[\"nom\"][i],DPatient[\"prenom\"][i],DPatient[\"sexe\"][i],DPatient[\"age\"][i])\n",
    "        f.write('%s;%s;%s;%s;%s\\n' % (DPatient[\"cin\"][i],DPatient[\"nom\"][i],DPatient[\"prenom\"][i],DPatient[\"sexe\"][i],DPatient[\"age\"][i]))"
   ]
  },
  {
   "cell_type": "code",
   "execution_count": 40,
   "id": "11fcfc23",
   "metadata": {},
   "outputs": [
    {
     "name": "stdout",
     "output_type": "stream",
     "text": [
      "fdd fd f d f\n"
     ]
    }
   ],
   "source": [
    "print( DPatient[\"cin\"][0],DPatient[\"nom\"][0],DPatient[\"prenom\"][0],DPatient[\"sexe\"][0],DPatient[\"age\"][0])"
   ]
  },
  {
   "cell_type": "code",
   "execution_count": null,
   "id": "1aa3aee8",
   "metadata": {},
   "outputs": [],
   "source": [
    "with open(\"DPatient.txt\", 'w') as f: \n",
    "    for key, value in DPatient.items(): \n",
    "        f.write('%s:%s' %(key[1], value[1]))"
   ]
  }
 ],
 "metadata": {
  "kernelspec": {
   "display_name": "Python 3 (ipykernel)",
   "language": "python",
   "name": "python3"
  },
  "language_info": {
   "codemirror_mode": {
    "name": "ipython",
    "version": 3
   },
   "file_extension": ".py",
   "mimetype": "text/x-python",
   "name": "python",
   "nbconvert_exporter": "python",
   "pygments_lexer": "ipython3",
   "version": "3.9.12"
  }
 },
 "nbformat": 4,
 "nbformat_minor": 5
}
